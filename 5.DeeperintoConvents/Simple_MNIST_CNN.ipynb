{
 "cells": [
  {
   "cell_type": "markdown",
   "metadata": {},
   "source": [
    "## Convolutional Neural Network"
   ]
  },
  {
   "cell_type": "code",
   "execution_count": 3,
   "metadata": {
    "colab": {
     "base_uri": "https://localhost:8080/",
     "height": 34
    },
    "colab_type": "code",
    "id": "5UQETGDk07a3",
    "outputId": "c6d9dcc8-8f1c-4418-c48d-d85d1d2d38df"
   },
   "outputs": [],
   "source": [
    "from keras.layers import *\n",
    "from keras.models import Sequential\n",
    "#keras give us functional and sequential api depending on the use case we can choose one out of this \n",
    "#if our model has a single stack of layers in that case we can go with a sequential api but if there is lot of branches in the \n",
    "#layer between innput and output not a single stack of layer in that case u can go with functional so in complex network we can \n",
    "#use the functional api like there are 2 branches which also predict the class of the object and one branch predict the location\n",
    "#of the obj in the image"
   ]
  },
  {
   "cell_type": "code",
   "execution_count": 4,
   "metadata": {
    "colab": {
     "base_uri": "https://localhost:8080/",
     "height": 408
    },
    "colab_type": "code",
    "id": "WST-1Hu11PYs",
    "outputId": "614539b9-0f1a-4692-c05a-93e994cbff90"
   },
   "outputs": [
    {
     "name": "stdout",
     "output_type": "stream",
     "text": [
      "WARNING:tensorflow:From D:\\Python\\lib\\site-packages\\keras\\backend\\tensorflow_backend.py:4070: The name tf.nn.max_pool is deprecated. Please use tf.nn.max_pool2d instead.\n",
      "\n",
      "Model: \"sequential_1\"\n",
      "_________________________________________________________________\n",
      "Layer (type)                 Output Shape              Param #   \n",
      "=================================================================\n",
      "conv2d_1 (Conv2D)            (None, 26, 26, 32)        320       \n",
      "_________________________________________________________________\n",
      "max_pooling2d_1 (MaxPooling2 (None, 13, 13, 32)        0         \n",
      "_________________________________________________________________\n",
      "conv2d_2 (Conv2D)            (None, 11, 11, 64)        18496     \n",
      "_________________________________________________________________\n",
      "max_pooling2d_2 (MaxPooling2 (None, 5, 5, 64)          0         \n",
      "_________________________________________________________________\n",
      "conv2d_3 (Conv2D)            (None, 3, 3, 64)          36928     \n",
      "_________________________________________________________________\n",
      "flatten_1 (Flatten)          (None, 576)               0         \n",
      "_________________________________________________________________\n",
      "dense_1 (Dense)              (None, 64)                36928     \n",
      "_________________________________________________________________\n",
      "dense_2 (Dense)              (None, 10)                650       \n",
      "=================================================================\n",
      "Total params: 93,322\n",
      "Trainable params: 93,322\n",
      "Non-trainable params: 0\n",
      "_________________________________________________________________\n"
     ]
    }
   ],
   "source": [
    "# Build a Model \n",
    "\n",
    "model = Sequential()                                    #add more such layers if this size is more conv and pool \n",
    "model.add(Conv2D(32,(3,3),activation='relu',input_shape=(28,28,1)))\n",
    "model.add(MaxPool2D((2,2)))#It shrinks the heignt and width keeping the no of channel fixed \n",
    "model.add(Conv2D(64,(3,3),activation='relu',input_shape=(28,28,1)))\n",
    "model.add(MaxPool2D((2,2)))\n",
    "model.add(Conv2D(64,(3,3),activation='relu',input_shape=(28,28,1)))\n",
    "model.add(Flatten())\n",
    "model.add(Dense(64,activation='relu'))\n",
    "model.add(Dense(10,activation='softmax'))\n",
    "model.summary()"
   ]
  },
  {
   "cell_type": "code",
   "execution_count": 5,
   "metadata": {
    "colab": {},
    "colab_type": "code",
    "id": "8mr8Swri1Tvw"
   },
   "outputs": [
    {
     "name": "stdout",
     "output_type": "stream",
     "text": [
      "Downloading data from https://s3.amazonaws.com/img-datasets/mnist.npz\n",
      "11493376/11490434 [==============================] - 50s 4us/step\n"
     ]
    }
   ],
   "source": [
    "#Dataset preperation\n",
    "from keras.datasets import mnist\n",
    "from keras.utils import to_categorical\n",
    "(XTrain,YTrain),(XTest,YTest) = mnist.load_data()"
   ]
  },
  {
   "cell_type": "code",
   "execution_count": 6,
   "metadata": {
    "colab": {
     "base_uri": "https://localhost:8080/",
     "height": 51
    },
    "colab_type": "code",
    "id": "imDDq6a81bLp",
    "outputId": "14149e67-4c53-40cc-b661-71cab4244af9"
   },
   "outputs": [
    {
     "name": "stdout",
     "output_type": "stream",
     "text": [
      "(60000, 28, 28, 1) (60000, 10)\n",
      "(10000, 28, 28, 1) (10000, 10)\n"
     ]
    }
   ],
   "source": [
    "def preprocess_data(X,Y):\n",
    "    X = X.reshape((-1,28,28,1))\n",
    "    X = X/255.0\n",
    "    Y = to_categorical(Y)\n",
    "    return X,Y\n",
    "\n",
    "XTrain,YTrain = preprocess_data(XTrain,YTrain)\n",
    "print(XTrain.shape,YTrain.shape)\n",
    "\n",
    "XTest,YTest = preprocess_data(XTest,YTest)\n",
    "print(XTest.shape,YTest.shape)"
   ]
  },
  {
   "cell_type": "code",
   "execution_count": 7,
   "metadata": {
    "colab": {
     "base_uri": "https://localhost:8080/",
     "height": 714
    },
    "colab_type": "code",
    "id": "kFn8D-3M1eAb",
    "outputId": "1fd1ede8-25c1-41aa-d51e-5531e3f631f7"
   },
   "outputs": [
    {
     "name": "stdout",
     "output_type": "stream",
     "text": [
      "WARNING:tensorflow:From D:\\Python\\lib\\site-packages\\keras\\backend\\tensorflow_backend.py:422: The name tf.global_variables is deprecated. Please use tf.compat.v1.global_variables instead.\n",
      "\n",
      "Train on 54000 samples, validate on 6000 samples\n",
      "Epoch 1/20\n",
      "54000/54000 [==============================] - 45s 836us/step - loss: 0.2691 - accuracy: 0.9206 - val_loss: 0.0692 - val_accuracy: 0.9800\n",
      "Epoch 2/20\n",
      "54000/54000 [==============================] - 44s 820us/step - loss: 0.0652 - accuracy: 0.9799 - val_loss: 0.0519 - val_accuracy: 0.9855\n",
      "Epoch 3/20\n",
      "54000/54000 [==============================] - 46s 856us/step - loss: 0.0444 - accuracy: 0.9863 - val_loss: 0.0430 - val_accuracy: 0.9882\n",
      "Epoch 4/20\n",
      "54000/54000 [==============================] - 44s 815us/step - loss: 0.0334 - accuracy: 0.9896 - val_loss: 0.0482 - val_accuracy: 0.9855\n",
      "Epoch 5/20\n",
      "54000/54000 [==============================] - 40s 740us/step - loss: 0.0286 - accuracy: 0.9910 - val_loss: 0.0410 - val_accuracy: 0.9897\n",
      "Epoch 6/20\n",
      "54000/54000 [==============================] - 39s 720us/step - loss: 0.0227 - accuracy: 0.9928 - val_loss: 0.0413 - val_accuracy: 0.9890\n",
      "Epoch 7/20\n",
      "54000/54000 [==============================] - 48s 890us/step - loss: 0.0197 - accuracy: 0.9937 - val_loss: 0.0410 - val_accuracy: 0.9892\n",
      "Epoch 8/20\n",
      "54000/54000 [==============================] - 46s 851us/step - loss: 0.0169 - accuracy: 0.9943 - val_loss: 0.0323 - val_accuracy: 0.9917\n",
      "Epoch 9/20\n",
      "54000/54000 [==============================] - 46s 844us/step - loss: 0.0137 - accuracy: 0.9954 - val_loss: 0.0372 - val_accuracy: 0.9908\n",
      "Epoch 10/20\n",
      "54000/54000 [==============================] - 47s 866us/step - loss: 0.0116 - accuracy: 0.9964 - val_loss: 0.0384 - val_accuracy: 0.9903\n",
      "Epoch 11/20\n",
      "54000/54000 [==============================] - 46s 851us/step - loss: 0.0119 - accuracy: 0.9961 - val_loss: 0.0361 - val_accuracy: 0.9913\n",
      "Epoch 12/20\n",
      "54000/54000 [==============================] - 40s 738us/step - loss: 0.0092 - accuracy: 0.9969 - val_loss: 0.0344 - val_accuracy: 0.9923\n",
      "Epoch 13/20\n",
      "54000/54000 [==============================] - 40s 733us/step - loss: 0.0098 - accuracy: 0.9968 - val_loss: 0.0351 - val_accuracy: 0.9917\n",
      "Epoch 14/20\n",
      "54000/54000 [==============================] - 44s 820us/step - loss: 0.0074 - accuracy: 0.9975 - val_loss: 0.0438 - val_accuracy: 0.9920\n",
      "Epoch 15/20\n",
      "54000/54000 [==============================] - 38s 701us/step - loss: 0.0067 - accuracy: 0.9977 - val_loss: 0.0405 - val_accuracy: 0.9910\n",
      "Epoch 16/20\n",
      "54000/54000 [==============================] - 38s 705us/step - loss: 0.0087 - accuracy: 0.9969 - val_loss: 0.0337 - val_accuracy: 0.9917\n",
      "Epoch 17/20\n",
      "54000/54000 [==============================] - 41s 761us/step - loss: 0.0056 - accuracy: 0.9980 - val_loss: 0.0344 - val_accuracy: 0.9918\n",
      "Epoch 18/20\n",
      "54000/54000 [==============================] - 41s 768us/step - loss: 0.0053 - accuracy: 0.9984 - val_loss: 0.0368 - val_accuracy: 0.9933\n",
      "Epoch 19/20\n",
      "54000/54000 [==============================] - 46s 843us/step - loss: 0.0038 - accuracy: 0.9987 - val_loss: 0.0379 - val_accuracy: 0.9927\n",
      "Epoch 20/20\n",
      "54000/54000 [==============================] - 38s 698us/step - loss: 0.0054 - accuracy: 0.9982 - val_loss: 0.0456 - val_accuracy: 0.9923\n"
     ]
    }
   ],
   "source": [
    "# Model Compilation\n",
    "model.compile(optimizer='adam',loss='categorical_crossentropy',metrics=['accuracy'])\n",
    "hist = model.fit(XTrain,YTrain,epochs=20,validation_split=0.1,batch_size=128)"
   ]
  },
  {
   "cell_type": "code",
   "execution_count": 8,
   "metadata": {
    "colab": {
     "base_uri": "https://localhost:8080/",
     "height": 51
    },
    "colab_type": "code",
    "id": "QqoMHU4-1sib",
    "outputId": "0b8c1231-e582-4214-f408-55d317fdbf2a"
   },
   "outputs": [
    {
     "name": "stdout",
     "output_type": "stream",
     "text": [
      "10000/10000 [==============================] - 3s 258us/step\n"
     ]
    },
    {
     "data": {
      "text/plain": [
       "[0.03735099045197791, 0.991599977016449]"
      ]
     },
     "execution_count": 8,
     "metadata": {},
     "output_type": "execute_result"
    }
   ],
   "source": [
    "model.evaluate(XTest,YTest)"
   ]
  },
  {
   "cell_type": "code",
   "execution_count": 9,
   "metadata": {
    "colab": {
     "base_uri": "https://localhost:8080/",
     "height": 340
    },
    "colab_type": "code",
    "id": "3NS_ZNnQ2Q3u",
    "outputId": "64de07df-f8b0-426f-ad95-0630db481180"
   },
   "outputs": [
    {
     "name": "stdout",
     "output_type": "stream",
     "text": [
      "Model: \"sequential_2\"\n",
      "_________________________________________________________________\n",
      "Layer (type)                 Output Shape              Param #   \n",
      "=================================================================\n",
      "conv2d_4 (Conv2D)            (None, 26, 26, 32)        320       \n",
      "_________________________________________________________________\n",
      "conv2d_5 (Conv2D)            (None, 24, 24, 64)        18496     \n",
      "_________________________________________________________________\n",
      "conv2d_6 (Conv2D)            (None, 22, 22, 64)        36928     \n",
      "_________________________________________________________________\n",
      "flatten_2 (Flatten)          (None, 30976)             0         \n",
      "_________________________________________________________________\n",
      "dense_3 (Dense)              (None, 64)                1982528   \n",
      "_________________________________________________________________\n",
      "dense_4 (Dense)              (None, 10)                650       \n",
      "=================================================================\n",
      "Total params: 2,038,922\n",
      "Trainable params: 2,038,922\n",
      "Non-trainable params: 0\n",
      "_________________________________________________________________\n"
     ]
    }
   ],
   "source": [
    "# Build a Model without Pooling?\n",
    "# Why Pooling is Important -> Reduce Params, Increase Receptive Field of the Network!\n",
    "model = Sequential()\n",
    "model.add(Conv2D(32,(3,3),activation='relu',input_shape=(28,28,1)))\n",
    "#model.add(MaxPool2D((2,2)))\n",
    "model.add(Conv2D(64,(3,3),activation='relu',input_shape=(28,28,1)))\n",
    "#model.add(MaxPool2D((2,2)))\n",
    "model.add(Conv2D(64,(3,3),activation='relu',input_shape=(28,28,1)))\n",
    "model.add(Flatten())##after reshaping u can use any classifier we will use mlp here\n",
    "model.add(Dense(64,activation='relu'))\n",
    "model.add(Dense(10,activation='softmax'))\n",
    "model.summary()"
   ]
  }
 ],
 "metadata": {
  "accelerator": "GPU",
  "colab": {
   "name": "Simple_MNIST_CNN",
   "provenance": [],
   "version": "0.3.2"
  },
  "kernelspec": {
   "display_name": "Python 3",
   "language": "python",
   "name": "python3"
  },
  "language_info": {
   "codemirror_mode": {
    "name": "ipython",
    "version": 3
   },
   "file_extension": ".py",
   "mimetype": "text/x-python",
   "name": "python",
   "nbconvert_exporter": "python",
   "pygments_lexer": "ipython3",
   "version": "3.7.7"
  }
 },
 "nbformat": 4,
 "nbformat_minor": 1
}
